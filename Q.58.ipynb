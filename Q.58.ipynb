{
 "cells": [
  {
   "cell_type": "code",
   "execution_count": null,
   "id": "dd2147ef",
   "metadata": {},
   "outputs": [],
   "source": [
    "58. Assuming that we have some email addresses in the \"username@companyname.com\" format, please write \n",
    "program to print the company name of a given email address. Both user names and company names are composed\n",
    "of letters only. \n",
    "If the following email address is given as input to the program: Chandra@analytixlabs.com \n",
    "Then, the output of the program should be: analytixlabs \n",
    "In case of input data being supplied to the question, it should be assumed to be a console input. "
   ]
  },
  {
   "cell_type": "code",
   "execution_count": 1,
   "id": "82bdb0a5",
   "metadata": {},
   "outputs": [
    {
     "name": "stdout",
     "output_type": "stream",
     "text": [
      "['companyname']\n"
     ]
    }
   ],
   "source": [
    "import re\n",
    "\n",
    "email =\"username@companyname.com\"\n",
    "pattern = \"\\w+@(\\w+).com\"\n",
    "ans = re.findall(pattern,email)\n",
    "print(ans)\n"
   ]
  }
 ],
 "metadata": {
  "kernelspec": {
   "display_name": "Python 3 (ipykernel)",
   "language": "python",
   "name": "python3"
  },
  "language_info": {
   "codemirror_mode": {
    "name": "ipython",
    "version": 3
   },
   "file_extension": ".py",
   "mimetype": "text/x-python",
   "name": "python",
   "nbconvert_exporter": "python",
   "pygments_lexer": "ipython3",
   "version": "3.9.7"
  }
 },
 "nbformat": 4,
 "nbformat_minor": 5
}

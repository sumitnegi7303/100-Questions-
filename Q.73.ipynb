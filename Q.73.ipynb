{
 "cells": [
  {
   "cell_type": "code",
   "execution_count": null,
   "id": "60c12a41",
   "metadata": {},
   "outputs": [],
   "source": [
    "73. Please generate a random float where the value is between 10 and 100 using Python math module. \n",
    "Hints: Use random.random() to generate a random float in [0,1]. "
   ]
  },
  {
   "cell_type": "code",
   "execution_count": 2,
   "id": "baa3ae43",
   "metadata": {},
   "outputs": [
    {
     "name": "stdout",
     "output_type": "stream",
     "text": [
      "20.81133439448979\n"
     ]
    }
   ],
   "source": [
    "import random\n",
    "rand_num = random.uniform(10,100)\n",
    "print(rand_num)"
   ]
  },
  {
   "cell_type": "code",
   "execution_count": 7,
   "id": "28e976a9",
   "metadata": {},
   "outputs": [
    {
     "name": "stdout",
     "output_type": "stream",
     "text": [
      "74.49286985441735\n"
     ]
    }
   ],
   "source": [
    "import random \n",
    "r = random.uniform(10,100)\n",
    "print(r)"
   ]
  },
  {
   "cell_type": "code",
   "execution_count": null,
   "id": "ea2ca80d",
   "metadata": {},
   "outputs": [],
   "source": []
  }
 ],
 "metadata": {
  "kernelspec": {
   "display_name": "Python 3 (ipykernel)",
   "language": "python",
   "name": "python3"
  },
  "language_info": {
   "codemirror_mode": {
    "name": "ipython",
    "version": 3
   },
   "file_extension": ".py",
   "mimetype": "text/x-python",
   "name": "python",
   "nbconvert_exporter": "python",
   "pygments_lexer": "ipython3",
   "version": "3.9.7"
  }
 },
 "nbformat": 4,
 "nbformat_minor": 5
}

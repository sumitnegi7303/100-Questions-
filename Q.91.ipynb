{
 "cells": [
  {
   "cell_type": "code",
   "execution_count": null,
   "id": "d37fa4b6",
   "metadata": {},
   "outputs": [],
   "source": [
    "91. By using list comprehension, please write a program to print the list after removing the value 24 in \n",
    "[12,24,35,24,88,120,155]. \n",
    "Hints: Use list's remove method to delete a value. "
   ]
  },
  {
   "cell_type": "code",
   "execution_count": 1,
   "id": "f16a7ced",
   "metadata": {},
   "outputs": [
    {
     "name": "stdout",
     "output_type": "stream",
     "text": [
      "[24, 35, 24, 155]\n"
     ]
    }
   ],
   "source": [
    "li = [12,24,35,24,88,120,155]\n",
    "li = [x for (i,x) in enumerate(li) if i not in(0,4,5)] \n",
    "print(li)"
   ]
  }
 ],
 "metadata": {
  "kernelspec": {
   "display_name": "Python 3 (ipykernel)",
   "language": "python",
   "name": "python3"
  },
  "language_info": {
   "codemirror_mode": {
    "name": "ipython",
    "version": 3
   },
   "file_extension": ".py",
   "mimetype": "text/x-python",
   "name": "python",
   "nbconvert_exporter": "python",
   "pygments_lexer": "ipython3",
   "version": "3.9.7"
  }
 },
 "nbformat": 4,
 "nbformat_minor": 5
}

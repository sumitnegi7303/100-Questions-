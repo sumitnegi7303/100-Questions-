{
 "cells": [
  {
   "cell_type": "code",
   "execution_count": null,
   "id": "d900ac40",
   "metadata": {},
   "outputs": [],
   "source": [
    "50. Define a class named American which has a static method called printNationality. \n",
    "Hints: Use @staticmethod decorator to define class static method. "
   ]
  },
  {
   "cell_type": "code",
   "execution_count": 1,
   "id": "9a64dccd",
   "metadata": {},
   "outputs": [
    {
     "name": "stdout",
     "output_type": "stream",
     "text": [
      "I am American\n",
      "I am American\n"
     ]
    }
   ],
   "source": [
    "class American():\n",
    "    @staticmethod\n",
    "    def printNationality():\n",
    "        print(\"I am American\")\n",
    "\n",
    "american = American()\n",
    "american.printNationality()   # this will not run if @staticmethod does not decorates the function.\n",
    "                              # Because the class has no instance.\n",
    "\n",
    "American.printNationality() "
   ]
  }
 ],
 "metadata": {
  "kernelspec": {
   "display_name": "Python 3 (ipykernel)",
   "language": "python",
   "name": "python3"
  },
  "language_info": {
   "codemirror_mode": {
    "name": "ipython",
    "version": 3
   },
   "file_extension": ".py",
   "mimetype": "text/x-python",
   "name": "python",
   "nbconvert_exporter": "python",
   "pygments_lexer": "ipython3",
   "version": "3.9.7"
  }
 },
 "nbformat": 4,
 "nbformat_minor": 5
}

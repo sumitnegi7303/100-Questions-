{
 "cells": [
  {
   "cell_type": "code",
   "execution_count": null,
   "id": "c8fa97b0",
   "metadata": {},
   "outputs": [],
   "source": [
    "84. Please write a program to shuffle and print the list [3,6,7,8]. \n",
    "Hints: Use shuffle() function to shuffle a list. "
   ]
  },
  {
   "cell_type": "code",
   "execution_count": 1,
   "id": "5462072e",
   "metadata": {},
   "outputs": [
    {
     "name": "stdout",
     "output_type": "stream",
     "text": [
      "[8, 6, 3, 7]\n"
     ]
    }
   ],
   "source": [
    "from random import shuffle\n",
    "li = [3,6,7,8]\n",
    "shuffle(li)\n",
    "print(li)"
   ]
  }
 ],
 "metadata": {
  "kernelspec": {
   "display_name": "Python 3 (ipykernel)",
   "language": "python",
   "name": "python3"
  },
  "language_info": {
   "codemirror_mode": {
    "name": "ipython",
    "version": 3
   },
   "file_extension": ".py",
   "mimetype": "text/x-python",
   "name": "python",
   "nbconvert_exporter": "python",
   "pygments_lexer": "ipython3",
   "version": "3.9.7"
  }
 },
 "nbformat": 4,
 "nbformat_minor": 5
}

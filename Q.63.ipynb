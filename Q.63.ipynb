{
 "cells": [
  {
   "cell_type": "code",
   "execution_count": null,
   "id": "208df594",
   "metadata": {},
   "outputs": [],
   "source": [
    "63. Write a program to compute 1/2+2/3+3/4+...+n/n+1 with a given n input by console (n>0). \n",
    "If the following n is given as input to the program: 5 \n",
    "Then, the output of the program should be: 3.5\n",
    "In case of input data being supplied to the question, it should be assumed to be a console input. \n",
    "Hints: Use float() to convert an integer to a float "
   ]
  },
  {
   "cell_type": "code",
   "execution_count": null,
   "id": "2adb70cc",
   "metadata": {},
   "outputs": [],
   "source": []
  }
 ],
 "metadata": {
  "kernelspec": {
   "display_name": "Python 3 (ipykernel)",
   "language": "python",
   "name": "python3"
  },
  "language_info": {
   "codemirror_mode": {
    "name": "ipython",
    "version": 3
   },
   "file_extension": ".py",
   "mimetype": "text/x-python",
   "name": "python",
   "nbconvert_exporter": "python",
   "pygments_lexer": "ipython3",
   "version": "3.9.7"
  }
 },
 "nbformat": 4,
 "nbformat_minor": 5
}

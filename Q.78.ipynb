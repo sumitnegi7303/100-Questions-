{
 "cells": [
  {
   "cell_type": "code",
   "execution_count": null,
   "id": "720447b0",
   "metadata": {},
   "outputs": [],
   "source": [
    "78. Please write a program to randomly generate a list with 5 even numbers between 100 and 200 inclusive. \n",
    "Hints: Use random.sample() to generate a list of random values. "
   ]
  },
  {
   "cell_type": "code",
   "execution_count": 3,
   "id": "10b64b7f",
   "metadata": {},
   "outputs": [
    {
     "name": "stdout",
     "output_type": "stream",
     "text": [
      "[125, 111, 185, 123, 114]\n"
     ]
    }
   ],
   "source": [
    "import random\n",
    "ran = random.sample(range(100,200),5)\n",
    "print(ran)"
   ]
  },
  {
   "cell_type": "code",
   "execution_count": 4,
   "id": "760f5d71",
   "metadata": {},
   "outputs": [
    {
     "name": "stdout",
     "output_type": "stream",
     "text": [
      "[166, 172, 194, 186, 154]\n"
     ]
    }
   ],
   "source": [
    "import random\n",
    "ran = random.sample(range(100,201,2),5)\n",
    "print(ran)"
   ]
  },
  {
   "cell_type": "code",
   "execution_count": null,
   "id": "f9f6c3e8",
   "metadata": {},
   "outputs": [],
   "source": []
  }
 ],
 "metadata": {
  "kernelspec": {
   "display_name": "Python 3 (ipykernel)",
   "language": "python",
   "name": "python3"
  },
  "language_info": {
   "codemirror_mode": {
    "name": "ipython",
    "version": 3
   },
   "file_extension": ".py",
   "mimetype": "text/x-python",
   "name": "python",
   "nbconvert_exporter": "python",
   "pygments_lexer": "ipython3",
   "version": "3.9.7"
  }
 },
 "nbformat": 4,
 "nbformat_minor": 5
}

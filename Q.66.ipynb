{
 "cells": [
  {
   "cell_type": "code",
   "execution_count": null,
   "id": "f48f003c",
   "metadata": {},
   "outputs": [],
   "source": [
    "66. The Fibonacci sequence is computed based on the following formula: \n",
    "f(n)=0 if n=0 \n",
    "f(n)=1 if n=1 \n",
    "f(n)=f(n-1)+f(n-2) if n>1 \n",
    "\n",
    "Please write a program using list comprehension to print the Fibonacci sequence in comma separated \n",
    "form with a given n inputby console. \n",
    "If the following n is given as input to the program: 7 \n",
    "Then, the output of the program should be: 0, 1, 1, 2, 3, 5, 8, 13 \n"
   ]
  },
  {
   "cell_type": "code",
   "execution_count": 1,
   "id": "4840b57b",
   "metadata": {},
   "outputs": [
    {
     "ename": "SyntaxError",
     "evalue": "invalid syntax (Temp/ipykernel_19452/3843646277.py, line 8)",
     "output_type": "error",
     "traceback": [
      "\u001b[1;36m  File \u001b[1;32m\"C:\\Users\\GOURAV~1\\AppData\\Local\\Temp/ipykernel_19452/3843646277.py\"\u001b[1;36m, line \u001b[1;32m8\u001b[0m\n\u001b[1;33m    print \",\".join(values)\u001b[0m\n\u001b[1;37m          ^\u001b[0m\n\u001b[1;31mSyntaxError\u001b[0m\u001b[1;31m:\u001b[0m invalid syntax\n"
     ]
    }
   ],
   "source": [
    "def f(n):\n",
    "    if n == 0: return 0\n",
    "    elif n == 1: return 1\n",
    "    else: return f(n-1)+f(n-2)\n",
    "\n",
    "n=int(raw_input())\n",
    "values = [str(f(x)) for x in range(0, n+1)]\n",
    "print \",\".join(values)"
   ]
  },
  {
   "cell_type": "code",
   "execution_count": 2,
   "id": "f0d2be0b",
   "metadata": {},
   "outputs": [
    {
     "name": "stdout",
     "output_type": "stream",
     "text": [
      "7\n",
      "0,1,1,2,3,5,8,13\n"
     ]
    }
   ],
   "source": [
    "def f(n):\n",
    "    if n < 2:\n",
    "        fibo[n] = n\n",
    "        return fibo[n]\n",
    "    fibo[n] = f(n-1) + f(n-2)\n",
    "    return fibo[n]\n",
    "\n",
    "n = int(input())\n",
    "fibo = [0]*(n+1)  # initialize a list of size (n+1)\n",
    "f(n)              # call once and it will set value to fibo[0-n]\n",
    "fibo = [str(i) for i in fibo]   # converting integer data to string type\n",
    "ans = \",\".join(fibo)    # joining all string element of fibo with ',' character\n",
    "print(ans)\n"
   ]
  },
  {
   "cell_type": "code",
   "execution_count": null,
   "id": "73f45cb0",
   "metadata": {},
   "outputs": [],
   "source": []
  }
 ],
 "metadata": {
  "kernelspec": {
   "display_name": "Python 3 (ipykernel)",
   "language": "python",
   "name": "python3"
  },
  "language_info": {
   "codemirror_mode": {
    "name": "ipython",
    "version": 3
   },
   "file_extension": ".py",
   "mimetype": "text/x-python",
   "name": "python",
   "nbconvert_exporter": "python",
   "pygments_lexer": "ipython3",
   "version": "3.9.7"
  }
 },
 "nbformat": 4,
 "nbformat_minor": 5
}

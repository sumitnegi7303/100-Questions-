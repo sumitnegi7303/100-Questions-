{
 "cells": [
  {
   "cell_type": "code",
   "execution_count": null,
   "id": "6998fff9",
   "metadata": {},
   "outputs": [],
   "source": [
    "93. With a given list [12, 24, 35, 24, 88, 120, 155, 88, 120, 155], write a program to print this list after removing \n",
    "all duplicate values with original order reserved. \n",
    "Hints: Use set() to store a number of values without duplicate. "
   ]
  },
  {
   "cell_type": "code",
   "execution_count": 1,
   "id": "f5e00fcc",
   "metadata": {},
   "outputs": [
    {
     "name": "stdout",
     "output_type": "stream",
     "text": [
      "[12, 35, 24, 88, 120, 155]\n"
     ]
    }
   ],
   "source": [
    "li = [12,24,35,24,88,120,155,88,120,155]\n",
    "for i in li:\n",
    "    if li.count(i) > 1:\n",
    "        li.remove(i)\n",
    "print(li)"
   ]
  },
  {
   "cell_type": "code",
   "execution_count": 4,
   "id": "1f6d241f",
   "metadata": {},
   "outputs": [
    {
     "name": "stdout",
     "output_type": "stream",
     "text": [
      "[12, 24, 35, 88, 120, 155]\n"
     ]
    }
   ],
   "source": [
    "def removeDuplicate( li ):\n",
    "    newli=[]\n",
    "    seen = set()\n",
    "    for item in li:\n",
    "        if item not in seen:\n",
    "            seen.add( item )\n",
    "            newli.append(item)\n",
    "\n",
    "    return newli\n",
    "\n",
    "li=[12,24,35,24,88,120,155,88,120,155]\n",
    "print (removeDuplicate(li))"
   ]
  }
 ],
 "metadata": {
  "kernelspec": {
   "display_name": "Python 3 (ipykernel)",
   "language": "python",
   "name": "python3"
  },
  "language_info": {
   "codemirror_mode": {
    "name": "ipython",
    "version": 3
   },
   "file_extension": ".py",
   "mimetype": "text/x-python",
   "name": "python",
   "nbconvert_exporter": "python",
   "pygments_lexer": "ipython3",
   "version": "3.9.7"
  }
 },
 "nbformat": 4,
 "nbformat_minor": 5
}

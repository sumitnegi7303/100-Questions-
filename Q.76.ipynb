{
 "cells": [
  {
   "cell_type": "code",
   "execution_count": null,
   "id": "7295a6b5",
   "metadata": {},
   "outputs": [],
   "source": [
    "76. Please write a program to output a random number, which is divisible by 5 and 7, between 0 and 10\n",
    "inclusive using random module and list comprehension. \n",
    "Hints: Use random.choice() to a random element from a list. "
   ]
  },
  {
   "cell_type": "code",
   "execution_count": 1,
   "id": "1de86d18",
   "metadata": {},
   "outputs": [
    {
     "name": "stdout",
     "output_type": "stream",
     "text": [
      "70\n"
     ]
    }
   ],
   "source": [
    "import random\n",
    "resp = [i for i in range(10,151) if i % 35 == 0 ]\n",
    "print(random.choice(resp))"
   ]
  },
  {
   "cell_type": "code",
   "execution_count": 22,
   "id": "22603c15",
   "metadata": {},
   "outputs": [
    {
     "name": "stdout",
     "output_type": "stream",
     "text": [
      "0\n"
     ]
    }
   ],
   "source": [
    "import random\n",
    "list = [1,2,3,4,5,6,7,8,9,11]\n",
    "print(random.choice(L))"
   ]
  }
 ],
 "metadata": {
  "kernelspec": {
   "display_name": "Python 3 (ipykernel)",
   "language": "python",
   "name": "python3"
  },
  "language_info": {
   "codemirror_mode": {
    "name": "ipython",
    "version": 3
   },
   "file_extension": ".py",
   "mimetype": "text/x-python",
   "name": "python",
   "nbconvert_exporter": "python",
   "pygments_lexer": "ipython3",
   "version": "3.9.7"
  }
 },
 "nbformat": 4,
 "nbformat_minor": 5
}

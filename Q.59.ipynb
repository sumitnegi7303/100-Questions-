{
 "cells": [
  {
   "cell_type": "code",
   "execution_count": null,
   "id": "4b8e9e99",
   "metadata": {},
   "outputs": [],
   "source": [
    "Write a program which accepts a sequence of words separated by whitespace as input to print the words composed\n",
    "of digits only. \n",
    "If the following words are given as input to the program: 2 cats and 3 dogs. \n",
    "Then, the output of the program should be: ['2', '3'] \n",
    "In case of input data being supplied to the question, it should be assumed to be a console input. \n",
    "Hints: Use re.findall() to find all substring using regex."
   ]
  },
  {
   "cell_type": "code",
   "execution_count": 1,
   "id": "0a8f5da9",
   "metadata": {},
   "outputs": [
    {
     "name": "stdout",
     "output_type": "stream",
     "text": [
      "rhoan\n",
      "rhoan\n"
     ]
    }
   ],
   "source": [
    "s = input()\n",
    "words = [word for word in s.split(\" \")]\n",
    "print(\" \".join(sorted(list(set(words)))))"
   ]
  }
 ],
 "metadata": {
  "kernelspec": {
   "display_name": "Python 3 (ipykernel)",
   "language": "python",
   "name": "python3"
  },
  "language_info": {
   "codemirror_mode": {
    "name": "ipython",
    "version": 3
   },
   "file_extension": ".py",
   "mimetype": "text/x-python",
   "name": "python",
   "nbconvert_exporter": "python",
   "pygments_lexer": "ipython3",
   "version": "3.9.7"
  }
 },
 "nbformat": 4,
 "nbformat_minor": 5
}

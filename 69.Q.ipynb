{
 "cells": [
  {
   "cell_type": "code",
   "execution_count": null,
   "id": "15c6f5d1",
   "metadata": {},
   "outputs": [],
   "source": [
    "69. Please write assert statements to verify that every number in the list [2,4,6,8] is even. "
   ]
  },
  {
   "cell_type": "code",
   "execution_count": null,
   "id": "86833fe9",
   "metadata": {},
   "outputs": [],
   "source": [
    "Use \"assert expression\" to make assertion."
   ]
  },
  {
   "cell_type": "code",
   "execution_count": 1,
   "id": "6ecd7601",
   "metadata": {},
   "outputs": [],
   "source": [
    "li = [2,4,6,8]\n",
    "for i in li:\n",
    "    assert i%2==0"
   ]
  }
 ],
 "metadata": {
  "kernelspec": {
   "display_name": "Python 3 (ipykernel)",
   "language": "python",
   "name": "python3"
  },
  "language_info": {
   "codemirror_mode": {
    "name": "ipython",
    "version": 3
   },
   "file_extension": ".py",
   "mimetype": "text/x-python",
   "name": "python",
   "nbconvert_exporter": "python",
   "pygments_lexer": "ipython3",
   "version": "3.9.7"
  }
 },
 "nbformat": 4,
 "nbformat_minor": 5
}

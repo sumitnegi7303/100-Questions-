{
 "cells": [
  {
   "cell_type": "code",
   "execution_count": null,
   "id": "90e0b6ba",
   "metadata": {},
   "outputs": [],
   "source": [
    "95. Please write a program which count and print the numbers of each character in a string input by console. \n",
    "If the following string is given as input to the program: abcdefgabc \n",
    "Then, the output of the program should be: \n",
    "a,2 \n",
    "c,2 \n",
    "b,2 \n",
    "e,1 \n",
    "d,1 \n",
    "g,1 \n",
    "f,1 \n",
    "Hints: Use dict to store key/value pairs. Use dict.get() method to lookup a key with default value. "
   ]
  },
  {
   "cell_type": "code",
   "execution_count": 15,
   "id": "573d6363",
   "metadata": {},
   "outputs": [
    {
     "name": "stdout",
     "output_type": "stream",
     "text": [
      "abcdefgabc\n",
      "a,2\n",
      "b,2\n",
      "c,2\n",
      "d,1\n",
      "e,1\n",
      "f,1\n",
      "g,1\n"
     ]
    }
   ],
   "source": [
    "import string\n",
    "\n",
    "s = input()\n",
    "for letter in string.ascii_lowercase:\n",
    "    cnt = s.count(letter)\n",
    "    if cnt > 0:\n",
    "        print(\"{},{}\".format(letter,cnt))"
   ]
  }
 ],
 "metadata": {
  "kernelspec": {
   "display_name": "Python 3 (ipykernel)",
   "language": "python",
   "name": "python3"
  },
  "language_info": {
   "codemirror_mode": {
    "name": "ipython",
    "version": 3
   },
   "file_extension": ".py",
   "mimetype": "text/x-python",
   "name": "python",
   "nbconvert_exporter": "python",
   "pygments_lexer": "ipython3",
   "version": "3.9.7"
  }
 },
 "nbformat": 4,
 "nbformat_minor": 5
}

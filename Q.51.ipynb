{
 "cells": [
  {
   "cell_type": "code",
   "execution_count": null,
   "id": "71b74700",
   "metadata": {},
   "outputs": [],
   "source": [
    "51. Define a class named American and its subclass NewYorker. \n",
    "Hints: Use class Subclass(ParentClass) to define a subclass. \n"
   ]
  },
  {
   "cell_type": "code",
   "execution_count": 1,
   "id": "cfb0ea9c",
   "metadata": {},
   "outputs": [
    {
     "name": "stdout",
     "output_type": "stream",
     "text": [
      "<__main__.American object at 0x000002611B4D9D30>\n",
      "<__main__.NewYorker object at 0x000002611B4D3670>\n"
     ]
    }
   ],
   "source": [
    "class American():\n",
    "    pass\n",
    "\n",
    "class NewYorker(American):\n",
    "    pass\n",
    "\n",
    "anAmerican = American()\n",
    "aNewYorker = NewYorker()\n",
    "print (anAmerican)\n",
    "print (aNewYorker)"
   ]
  }
 ],
 "metadata": {
  "kernelspec": {
   "display_name": "Python 3 (ipykernel)",
   "language": "python",
   "name": "python3"
  },
  "language_info": {
   "codemirror_mode": {
    "name": "ipython",
    "version": 3
   },
   "file_extension": ".py",
   "mimetype": "text/x-python",
   "name": "python",
   "nbconvert_exporter": "python",
   "pygments_lexer": "ipython3",
   "version": "3.9.7"
  }
 },
 "nbformat": 4,
 "nbformat_minor": 5
}

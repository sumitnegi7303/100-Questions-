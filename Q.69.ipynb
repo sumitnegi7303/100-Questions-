{
 "cells": [
  {
   "cell_type": "code",
   "execution_count": null,
   "id": "16220931",
   "metadata": {},
   "outputs": [],
   "source": [
    "69. Please write assert statements to verify that every number in the list [2,4,6,8] is even. \n",
    "Hints: Use \"assert expression\" to make assertion. "
   ]
  },
  {
   "cell_type": "code",
   "execution_count": null,
   "id": "e6c6dca9",
   "metadata": {},
   "outputs": [],
   "source": [
    "list = [2,4,6,8]\n"
   ]
  },
  {
   "cell_type": "code",
   "execution_count": 3,
   "id": "3a95bfc6",
   "metadata": {},
   "outputs": [
    {
     "name": "stdout",
     "output_type": "stream",
     "text": [
      "li\n"
     ]
    }
   ],
   "source": [
    "li = [2,4,6,8]\n",
    "for i in li:\n",
    "    assert i%2==0\n"
   ]
  },
  {
   "cell_type": "code",
   "execution_count": null,
   "id": "ca611ef6",
   "metadata": {},
   "outputs": [],
   "source": []
  }
 ],
 "metadata": {
  "kernelspec": {
   "display_name": "Python 3 (ipykernel)",
   "language": "python",
   "name": "python3"
  },
  "language_info": {
   "codemirror_mode": {
    "name": "ipython",
    "version": 3
   },
   "file_extension": ".py",
   "mimetype": "text/x-python",
   "name": "python",
   "nbconvert_exporter": "python",
   "pygments_lexer": "ipython3",
   "version": "3.9.7"
  }
 },
 "nbformat": 4,
 "nbformat_minor": 5
}

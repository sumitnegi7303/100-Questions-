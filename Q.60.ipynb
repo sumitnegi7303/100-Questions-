{
 "cells": [
  {
   "cell_type": "code",
   "execution_count": null,
   "id": "92d54413",
   "metadata": {},
   "outputs": [],
   "source": [
    "60. Print a unicode string \"hello world\". \n",
    "Hints: Use u'strings' format to define unicode string. "
   ]
  },
  {
   "cell_type": "code",
   "execution_count": 10,
   "id": "4aa72ff0",
   "metadata": {},
   "outputs": [
    {
     "name": "stdout",
     "output_type": "stream",
     "text": [
      "unicodeString\n"
     ]
    }
   ],
   "source": [
    "unicodeString = u\"hello world!\"\n",
    "print (\"unicodeString\")"
   ]
  },
  {
   "cell_type": "code",
   "execution_count": 12,
   "id": "77ced031",
   "metadata": {
    "scrolled": true
   },
   "outputs": [
    {
     "name": "stdout",
     "output_type": "stream",
     "text": [
      "Hello ♥ world\n"
     ]
    }
   ],
   "source": [
    " print ('Hello \\u2665 world')"
   ]
  },
  {
   "cell_type": "code",
   "execution_count": 13,
   "id": "852467b5",
   "metadata": {},
   "outputs": [
    {
     "name": "stdout",
     "output_type": "stream",
     "text": [
      "♥\n"
     ]
    }
   ],
   "source": [
    "print(r\"\\u{}\".format(\"2665\").encode().decode('unicode_escape'))"
   ]
  }
 ],
 "metadata": {
  "kernelspec": {
   "display_name": "Python 3 (ipykernel)",
   "language": "python",
   "name": "python3"
  },
  "language_info": {
   "codemirror_mode": {
    "name": "ipython",
    "version": 3
   },
   "file_extension": ".py",
   "mimetype": "text/x-python",
   "name": "python",
   "nbconvert_exporter": "python",
   "pygments_lexer": "ipython3",
   "version": "3.9.7"
  }
 },
 "nbformat": 4,
 "nbformat_minor": 5
}

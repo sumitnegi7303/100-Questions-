{
 "cells": [
  {
   "cell_type": "code",
   "execution_count": null,
   "id": "5bca3d3c",
   "metadata": {},
   "outputs": [],
   "source": [
    "77. Please write a program to generate a list with 5 random numbers between 100 and 200 inclusive. \n",
    "Hints: Use random.sample() to generate a list of random values. "
   ]
  },
  {
   "cell_type": "code",
   "execution_count": 1,
   "id": "ded80be8",
   "metadata": {},
   "outputs": [
    {
     "name": "stdout",
     "output_type": "stream",
     "text": [
      "[100, 121, 172, 197, 194]\n"
     ]
    }
   ],
   "source": [
    "import random\n",
    "resp = random.sample(range(100,200),5)\n",
    "print(resp)"
   ]
  },
  {
   "cell_type": "code",
   "execution_count": null,
   "id": "ebad74ae",
   "metadata": {},
   "outputs": [],
   "source": []
  }
 ],
 "metadata": {
  "kernelspec": {
   "display_name": "Python 3 (ipykernel)",
   "language": "python",
   "name": "python3"
  },
  "language_info": {
   "codemirror_mode": {
    "name": "ipython",
    "version": 3
   },
   "file_extension": ".py",
   "mimetype": "text/x-python",
   "name": "python",
   "nbconvert_exporter": "python",
   "pygments_lexer": "ipython3",
   "version": "3.9.7"
  }
 },
 "nbformat": 4,
 "nbformat_minor": 5
}

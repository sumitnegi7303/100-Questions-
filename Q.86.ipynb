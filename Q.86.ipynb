{
 "cells": [
  {
   "cell_type": "code",
   "execution_count": null,
   "id": "6dacbefc",
   "metadata": {},
   "outputs": [],
   "source": [
    "86. Please write a program to print the list after removing delete even numbers in [5,6,77,45,22,12,24]. \n",
    "Hints: Use list comprehension to delete a bunch of element from a list. "
   ]
  },
  {
   "cell_type": "code",
   "execution_count": 1,
   "id": "af70090b",
   "metadata": {},
   "outputs": [
    {
     "name": "stdout",
     "output_type": "stream",
     "text": [
      "[5, 77, 45]\n"
     ]
    }
   ],
   "source": [
    "li = [5,6,77,45,22,12,24]\n",
    "li = [x for x in li if x%2!=0]\n",
    "print(li)"
   ]
  }
 ],
 "metadata": {
  "kernelspec": {
   "display_name": "Python 3 (ipykernel)",
   "language": "python",
   "name": "python3"
  },
  "language_info": {
   "codemirror_mode": {
    "name": "ipython",
    "version": 3
   },
   "file_extension": ".py",
   "mimetype": "text/x-python",
   "name": "python",
   "nbconvert_exporter": "python",
   "pygments_lexer": "ipython3",
   "version": "3.9.7"
  }
 },
 "nbformat": 4,
 "nbformat_minor": 5
}

{
 "cells": [
  {
   "cell_type": "code",
   "execution_count": null,
   "id": "d8944eb2",
   "metadata": {},
   "outputs": [],
   "source": []
  },
  {
   "cell_type": "code",
   "execution_count": null,
   "id": "6dbbd4d3",
   "metadata": {},
   "outputs": [],
   "source": []
  },
  {
   "cell_type": "code",
   "execution_count": null,
   "id": "a8afc5aa",
   "metadata": {},
   "outputs": [],
   "source": [
    "55. Write a function to compute 5/0 and use try/except to catch the exceptions. \n",
    "Hints: Use try/except to catch exceptions. \n",
    "56. Define a custom exception class which takes a string message as attribute. \n",
    "Hints: To define a custom exception, we need to define a class inherited from Exception. \n",
    "57. Assuming that we have some email addresses in the \"username@companyname.com\" format, please write program to print the user name of a given email address. Both user names and company names are composed of letters only. \n",
    "If the following email address is given as input to the program: Chandra@gdhdhtc.com \n",
    "Then, the output of the program should be: Chandra \n",
    "\n",
    "In case of input data being supplied to the question, it should be assumed to be a console input. \n",
    "Hints: Use \\w to match letters. \n",
    "58. Assuming that we have some email addresses in the \"username@companyname.com\" format, please write program to print the company name of a given email address. Both user names and company names are composed of letters only. \n",
    "If the following email address is given as input to the program: Chandra@analytixlabs.com \n",
    "Then, the output of the program should be: analytixlabs \n",
    "In case of input data being supplied to the question, it should be assumed to be a console input. \n",
    "Hints: Use \\w to match letters \n",
    "59. Write a program which accepts a sequence of words separated by whitespace as input to print the words composed of digits only. \n",
    "If the following words are given as input to the program: 2 cats and 3 dogs. \n",
    "Then, the output of the program should be: ['2', '3'] \n",
    "In case of input data being supplied to the question, it should be assumed to be a console input. \n",
    "Hints: Use re.findall() to find all substring using regex. \n",
    "60. Print a unicode string \"hello world\". \n",
    "Hints: Use u'strings' format to define unicode string. \n",
    "61. Write a program to read an ASCII string and to convert it to a unicode string encoded by utf-8. \n"
   ]
  },
  {
   "cell_type": "code",
   "execution_count": 1,
   "id": "7dfb471c",
   "metadata": {},
   "outputs": [
    {
     "name": "stdout",
     "output_type": "stream",
     "text": [
      "sumit\n",
      "sumit\n"
     ]
    }
   ],
   "source": [
    "s = input()\n",
    "words = [word for word in s.split(\" \")]\n",
    "print(\" \".join(sorted(list(set(words)))))"
   ]
  }
 ],
 "metadata": {
  "kernelspec": {
   "display_name": "Python 3 (ipykernel)",
   "language": "python",
   "name": "python3"
  },
  "language_info": {
   "codemirror_mode": {
    "name": "ipython",
    "version": 3
   },
   "file_extension": ".py",
   "mimetype": "text/x-python",
   "name": "python",
   "nbconvert_exporter": "python",
   "pygments_lexer": "ipython3",
   "version": "3.9.7"
  }
 },
 "nbformat": 4,
 "nbformat_minor": 5
}

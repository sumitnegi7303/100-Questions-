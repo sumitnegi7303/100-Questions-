{
 "cells": [
  {
   "cell_type": "code",
   "execution_count": null,
   "id": "f0aca8d9",
   "metadata": {},
   "outputs": [],
   "source": [
    "65. The Fibonacci sequence is computed based on the following formula: \n",
    "f(n)=0 if n=0 \n",
    "f(n)=1 if n=1 \n",
    "f(n)=f(n-1)+f(n-2) if n>1 \n",
    "Please write a program to compute the value of f(n) with a given n input by console. \n",
    "If the following n is given as input to the program: 7 \n",
    "Then, the output of the program should be: 13 \n",
    "In case of input data being supplied to the question, it should be assumed to be a console input. "
   ]
  },
  {
   "cell_type": "code",
   "execution_count": 1,
   "id": "27bfbebe",
   "metadata": {},
   "outputs": [
    {
     "ename": "SyntaxError",
     "evalue": "invalid syntax (Temp/ipykernel_2940/875218627.py, line 7)",
     "output_type": "error",
     "traceback": [
      "\u001b[1;36m  File \u001b[1;32m\"C:\\Users\\GOURAV~1\\AppData\\Local\\Temp/ipykernel_2940/875218627.py\"\u001b[1;36m, line \u001b[1;32m7\u001b[0m\n\u001b[1;33m    print f(n)\u001b[0m\n\u001b[1;37m          ^\u001b[0m\n\u001b[1;31mSyntaxError\u001b[0m\u001b[1;31m:\u001b[0m invalid syntax\n"
     ]
    }
   ],
   "source": [
    "def f(n):\n",
    "    if n == 0: return 0\n",
    "    elif n == 1: return 1\n",
    "    else: return f(n-1)+f(n-2)\n",
    "\n",
    "n=int(raw_input())\n",
    "print f(n)"
   ]
  },
  {
   "cell_type": "code",
   "execution_count": 2,
   "id": "b192dc9e",
   "metadata": {},
   "outputs": [
    {
     "name": "stdout",
     "output_type": "stream",
     "text": [
      "7\n",
      "0,1,1,2,3,5,8,13\n"
     ]
    }
   ],
   "source": [
    "\n",
    "n = int(input())\n",
    "f = lambda x: 0 if x == 0 else 1 if x == 1 else f(x-1)+f(x-2)\n",
    "print(','.join([str(f(x)) for x in range(0, n+1)]))"
   ]
  }
 ],
 "metadata": {
  "kernelspec": {
   "display_name": "Python 3 (ipykernel)",
   "language": "python",
   "name": "python3"
  },
  "language_info": {
   "codemirror_mode": {
    "name": "ipython",
    "version": 3
   },
   "file_extension": ".py",
   "mimetype": "text/x-python",
   "name": "python",
   "nbconvert_exporter": "python",
   "pygments_lexer": "ipython3",
   "version": "3.9.7"
  }
 },
 "nbformat": 4,
 "nbformat_minor": 5
}

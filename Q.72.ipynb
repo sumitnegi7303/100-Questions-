{
 "cells": [
  {
   "cell_type": "code",
   "execution_count": null,
   "id": "1f7e7954",
   "metadata": {},
   "outputs": [],
   "source": [
    "72. Please write a binary search function which searches an item in a sorted list. The function should \n",
    "return the index of element to be searched in the list. \n",
    "Hints: Use if/elif to deal with conditions. "
   ]
  },
  {
   "cell_type": "code",
   "execution_count": 2,
   "id": "0f6f4920",
   "metadata": {},
   "outputs": [
    {
     "name": "stdout",
     "output_type": "stream",
     "text": [
      "4\n",
      "-1\n"
     ]
    }
   ],
   "source": [
    "import math\n",
    "def bin_search(li, element):\n",
    "    bottom = 0\n",
    "    top = len(li)-1\n",
    "    index = -1\n",
    "    while top>=bottom and index==-1:\n",
    "        mid = int(math.floor((top+bottom)/2.0))\n",
    "        if li[mid]==element:\n",
    "            index = mid\n",
    "        elif li[mid]>element:\n",
    "            top = mid-1\n",
    "        else:\n",
    "            bottom = mid+1\n",
    "\n",
    "    return index\n",
    "\n",
    "li=[2,5,7,9,11,17,222]\n",
    "print (bin_search(li,11))\n",
    "print (bin_search(li,12))"
   ]
  },
  {
   "cell_type": "code",
   "execution_count": 3,
   "id": "c3a510e7",
   "metadata": {},
   "outputs": [
    {
     "name": "stdout",
     "output_type": "stream",
     "text": [
      "None\n"
     ]
    }
   ],
   "source": [
    "def binary_search(lst, item):\n",
    "    low = 0\n",
    "    high = len(lst) - 1\n",
    "    \n",
    "    while low <= high:\n",
    "        mid = round((low + high) / 2)\n",
    "        \n",
    "        if lst[mid] == item:\n",
    "            return mid\n",
    "        elif lst[mid] > item:\n",
    "            high = mid - 1\n",
    "        else:\n",
    "            low = mid + 1\n",
    "    return None\n",
    "    \n",
    "lst = [1,3,5,7]\n",
    "print(binary_search(lst, 9))   \n"
   ]
  },
  {
   "cell_type": "code",
   "execution_count": null,
   "id": "af484322",
   "metadata": {},
   "outputs": [],
   "source": []
  }
 ],
 "metadata": {
  "kernelspec": {
   "display_name": "Python 3 (ipykernel)",
   "language": "python",
   "name": "python3"
  },
  "language_info": {
   "codemirror_mode": {
    "name": "ipython",
    "version": 3
   },
   "file_extension": ".py",
   "mimetype": "text/x-python",
   "name": "python",
   "nbconvert_exporter": "python",
   "pygments_lexer": "ipython3",
   "version": "3.9.7"
  }
 },
 "nbformat": 4,
 "nbformat_minor": 5
}

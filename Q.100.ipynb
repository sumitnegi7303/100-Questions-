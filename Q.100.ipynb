{
 "cells": [
  {
   "cell_type": "code",
   "execution_count": null,
   "id": "66da9dc3",
   "metadata": {},
   "outputs": [],
   "source": [
    "100. Create a dictionary with phone numbers (phonebook = {“John”: 938477566, \"Jack”: 938377264, \"Jill”: 947662781}). \n",
    "Add \"Jake\" to the phonebook with the phone number 938273443, and remove Jill from the phonebook.\n"
   ]
  },
  {
   "cell_type": "code",
   "execution_count": null,
   "id": "cf49c11a",
   "metadata": {},
   "outputs": [],
   "source": []
  }
 ],
 "metadata": {
  "kernelspec": {
   "display_name": "Python 3 (ipykernel)",
   "language": "python",
   "name": "python3"
  },
  "language_info": {
   "codemirror_mode": {
    "name": "ipython",
    "version": 3
   },
   "file_extension": ".py",
   "mimetype": "text/x-python",
   "name": "python",
   "nbconvert_exporter": "python",
   "pygments_lexer": "ipython3",
   "version": "3.9.7"
  }
 },
 "nbformat": 4,
 "nbformat_minor": 5
}

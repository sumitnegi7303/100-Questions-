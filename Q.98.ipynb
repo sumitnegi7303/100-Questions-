{
 "cells": [
  {
   "cell_type": "code",
   "execution_count": null,
   "id": "16345a3b",
   "metadata": {},
   "outputs": [],
   "source": [
    "98. Please write a program which prints all permutations of [1, 2, 3] \n",
    "Hints: Use itertools.permutations() to get permutations of list. "
   ]
  },
  {
   "cell_type": "code",
   "execution_count": 18,
   "id": "cc765058",
   "metadata": {},
   "outputs": [
    {
     "name": "stdout",
     "output_type": "stream",
     "text": [
      "[(1, 2, 3), (1, 3, 2), (2, 1, 3), (2, 3, 1), (3, 1, 2), (3, 2, 1)]\n"
     ]
    }
   ],
   "source": [
    "import itertools\n",
    "print (list(itertools.permutations([1,2,3])))"
   ]
  }
 ],
 "metadata": {
  "kernelspec": {
   "display_name": "Python 3 (ipykernel)",
   "language": "python",
   "name": "python3"
  },
  "language_info": {
   "codemirror_mode": {
    "name": "ipython",
    "version": 3
   },
   "file_extension": ".py",
   "mimetype": "text/x-python",
   "name": "python",
   "nbconvert_exporter": "python",
   "pygments_lexer": "ipython3",
   "version": "3.9.7"
  }
 },
 "nbformat": 4,
 "nbformat_minor": 5
}

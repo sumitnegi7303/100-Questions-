{
 "cells": [
  {
   "cell_type": "code",
   "execution_count": null,
   "id": "6d7fc54e",
   "metadata": {},
   "outputs": [],
   "source": [
    "64. Write a program to compute: \n",
    "f(n)=f(n-1)+100 when n>0 \n",
    "and f(0)=1 \n",
    "with a given n input by console (n>0). \n",
    "If the following n is given as input to the program: 5 \n",
    "Then, the output of the program should be: 500 \n",
    "In case of input data being supplied to the question, it should be assumed to be a console input. \n",
    "Hints: We can define recursive function in Python. "
   ]
  },
  {
   "cell_type": "code",
   "execution_count": 1,
   "id": "29450821",
   "metadata": {},
   "outputs": [
    {
     "name": "stdout",
     "output_type": "stream",
     "text": [
      "5\n",
      "500\n"
     ]
    }
   ],
   "source": [
    "n = int(input())\n",
    "f = lambda x: f(x-1)+100 if x > 0 else 0\n",
    "print(f(n))"
   ]
  },
  {
   "cell_type": "code",
   "execution_count": null,
   "id": "90d17d4b",
   "metadata": {},
   "outputs": [],
   "source": []
  }
 ],
 "metadata": {
  "kernelspec": {
   "display_name": "Python 3 (ipykernel)",
   "language": "python",
   "name": "python3"
  },
  "language_info": {
   "codemirror_mode": {
    "name": "ipython",
    "version": 3
   },
   "file_extension": ".py",
   "mimetype": "text/x-python",
   "name": "python",
   "nbconvert_exporter": "python",
   "pygments_lexer": "ipython3",
   "version": "3.9.7"
  }
 },
 "nbformat": 4,
 "nbformat_minor": 5
}

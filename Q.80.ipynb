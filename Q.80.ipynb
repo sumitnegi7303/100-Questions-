{
 "cells": [
  {
   "cell_type": "code",
   "execution_count": null,
   "id": "198cbb31",
   "metadata": {},
   "outputs": [],
   "source": [
    "80. Please write a program to randomly print a integer number between 7 and 15 inclusive. \n",
    "Hints: Use random.randrange() to a random integer in a given range. "
   ]
  },
  {
   "cell_type": "code",
   "execution_count": 3,
   "id": "3d4005a3",
   "metadata": {},
   "outputs": [
    {
     "name": "stdout",
     "output_type": "stream",
     "text": [
      "14\n"
     ]
    }
   ],
   "source": [
    "import random\n",
    "ran = random.randrange(7,16)\n",
    "print(ran)"
   ]
  },
  {
   "cell_type": "code",
   "execution_count": 4,
   "id": "0d8e7f62",
   "metadata": {},
   "outputs": [
    {
     "data": {
      "text/plain": [
       "14"
      ]
     },
     "execution_count": 4,
     "metadata": {},
     "output_type": "execute_result"
    }
   ],
   "source": [
    "import random\n",
    "random.randrange(7,16)"
   ]
  },
  {
   "cell_type": "code",
   "execution_count": null,
   "id": "eed4316c",
   "metadata": {},
   "outputs": [],
   "source": []
  }
 ],
 "metadata": {
  "kernelspec": {
   "display_name": "Python 3 (ipykernel)",
   "language": "python",
   "name": "python3"
  },
  "language_info": {
   "codemirror_mode": {
    "name": "ipython",
    "version": 3
   },
   "file_extension": ".py",
   "mimetype": "text/x-python",
   "name": "python",
   "nbconvert_exporter": "python",
   "pygments_lexer": "ipython3",
   "version": "3.9.7"
  }
 },
 "nbformat": 4,
 "nbformat_minor": 5
}

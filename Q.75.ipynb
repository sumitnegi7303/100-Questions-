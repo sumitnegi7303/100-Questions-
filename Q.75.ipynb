{
 "cells": [
  {
   "cell_type": "code",
   "execution_count": null,
   "id": "cde23583",
   "metadata": {},
   "outputs": [],
   "source": [
    "75. Please write a program to output a random even number between 0 and 10 inclusive using random module\n",
    "and list comprehension. \n",
    "Hints: Use random.choice() to a random element from a list. "
   ]
  },
  {
   "cell_type": "code",
   "execution_count": 1,
   "id": "d67fbcae",
   "metadata": {},
   "outputs": [
    {
     "name": "stdout",
     "output_type": "stream",
     "text": [
      "10\n"
     ]
    }
   ],
   "source": [
    "import random\n",
    "resp = [i for i in range(0,11,2)]\n",
    "print(random.choice(resp))\n"
   ]
  },
  {
   "cell_type": "code",
   "execution_count": 26,
   "id": "10173061",
   "metadata": {},
   "outputs": [
    {
     "name": "stdout",
     "output_type": "stream",
     "text": [
      "7\n"
     ]
    }
   ],
   "source": [
    "import random\n",
    "list = [i for i in range(0,10)]\n",
    "print(random.choice(list))"
   ]
  }
 ],
 "metadata": {
  "kernelspec": {
   "display_name": "Python 3 (ipykernel)",
   "language": "python",
   "name": "python3"
  },
  "language_info": {
   "codemirror_mode": {
    "name": "ipython",
    "version": 3
   },
   "file_extension": ".py",
   "mimetype": "text/x-python",
   "name": "python",
   "nbconvert_exporter": "python",
   "pygments_lexer": "ipython3",
   "version": "3.9.7"
  }
 },
 "nbformat": 4,
 "nbformat_minor": 5
}

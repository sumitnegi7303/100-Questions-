{
 "cells": [
  {
   "cell_type": "code",
   "execution_count": null,
   "id": "0e1b5fdf",
   "metadata": {},
   "outputs": [],
   "source": [
    "54. Define a class named Shape and its subclass Square. The Square class has an init function \n",
    "which takes a length as argument. Both classes have a area function which can print the area of the shape where \n",
    "Shape's area is 0 by default. "
   ]
  },
  {
   "cell_type": "code",
   "execution_count": 1,
   "id": "465779a4",
   "metadata": {},
   "outputs": [
    {
     "name": "stdout",
     "output_type": "stream",
     "text": [
      "25\n",
      "0\n"
     ]
    }
   ],
   "source": [
    "class Shape():\n",
    "    def __init__(self):\n",
    "        pass\n",
    "\n",
    "    def area(self):\n",
    "        return 0\n",
    "\n",
    "class Square(Shape):\n",
    "    def __init__(self,length = 0):\n",
    "        Shape.__init__(self)\n",
    "        self.length = length\n",
    "\n",
    "    def area(self):\n",
    "        return self.length*self.length\n",
    "\n",
    "Asqr = Square(5)\n",
    "print(Asqr.area())      # prints 25 as given argument\n",
    "\n",
    "print(Square().area())  # prints zero as default area"
   ]
  }
 ],
 "metadata": {
  "kernelspec": {
   "display_name": "Python 3 (ipykernel)",
   "language": "python",
   "name": "python3"
  },
  "language_info": {
   "codemirror_mode": {
    "name": "ipython",
    "version": 3
   },
   "file_extension": ".py",
   "mimetype": "text/x-python",
   "name": "python",
   "nbconvert_exporter": "python",
   "pygments_lexer": "ipython3",
   "version": "3.9.7"
  }
 },
 "nbformat": 4,
 "nbformat_minor": 5
}

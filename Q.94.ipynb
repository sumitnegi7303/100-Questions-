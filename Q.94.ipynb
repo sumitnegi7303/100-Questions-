{
 "cells": [
  {
   "cell_type": "code",
   "execution_count": null,
   "id": "8003dbd2",
   "metadata": {},
   "outputs": [],
   "source": [
    "94. Define a class Person and its two child classes: Male and Female. All classes have a method \"getGender\" which can\n",
    "    print \"Male\" for Male class and \"Female\" for Female class. \n",
    "Hints: Use Subclass(Parentclass) to define a child class. "
   ]
  },
  {
   "cell_type": "code",
   "execution_count": 6,
   "id": "ba7acf04",
   "metadata": {},
   "outputs": [
    {
     "name": "stdout",
     "output_type": "stream",
     "text": [
      "Unknown\n",
      "Unknown\n"
     ]
    }
   ],
   "source": [
    "class person(object):\n",
    "    def getGender(self):\n",
    "        return \"Unknown\"\n",
    "    \n",
    "class Male(person):\n",
    "    def genGender(self):\n",
    "        return \"Male\"\n",
    "    \n",
    "class Female(person):\n",
    "    def genGender(self):\n",
    "        return \"Female\"\n",
    "    \n",
    "aMale = Male()\n",
    "bFemale = Female()\n",
    "print(aMale.getGender())\n",
    "print(bFemale.getGender())"
   ]
  },
  {
   "cell_type": "code",
   "execution_count": 2,
   "id": "3b7343bf",
   "metadata": {},
   "outputs": [
    {
     "name": "stdout",
     "output_type": "stream",
     "text": [
      "Male\n",
      "Female\n"
     ]
    }
   ],
   "source": [
    "class Person(object):\n",
    "    def getGender( self ):\n",
    "        return \"Unknown\"\n",
    "\n",
    "class Male( Person ):\n",
    "    def getGender( self ):\n",
    "        return \"Male\"\n",
    "\n",
    "class Female( Person ):\n",
    "    def getGender( self ):\n",
    "        return \"Female\"\n",
    "\n",
    "aMale = Male()\n",
    "aFemale= Female()\n",
    "print (aMale.getGender())\n",
    "print (aFemale.getGender())"
   ]
  },
  {
   "cell_type": "code",
   "execution_count": 5,
   "id": "aaea9105",
   "metadata": {},
   "outputs": [
    {
     "name": "stdout",
     "output_type": "stream",
     "text": [
      "Female\n",
      "Male\n"
     ]
    }
   ],
   "source": [
    "class Person(object):\n",
    "    def __init__(self):\n",
    "        self.gender = \"unknown\"\n",
    "\n",
    "    def getGender(self):\n",
    "        print(self.gender)\n",
    "\n",
    "class Male(Person):\n",
    "    def __init__(self):\n",
    "        self.gender = \"Male\"\n",
    "\n",
    "class Female(Person):\n",
    "    def __init__(self):\n",
    "        self.gender = \"Female\"\n",
    "\n",
    "sharon = Female()\n",
    "doug = Male()\n",
    "sharon.getGender()\n",
    "doug.getGender()"
   ]
  }
 ],
 "metadata": {
  "kernelspec": {
   "display_name": "Python 3 (ipykernel)",
   "language": "python",
   "name": "python3"
  },
  "language_info": {
   "codemirror_mode": {
    "name": "ipython",
    "version": 3
   },
   "file_extension": ".py",
   "mimetype": "text/x-python",
   "name": "python",
   "nbconvert_exporter": "python",
   "pygments_lexer": "ipython3",
   "version": "3.9.7"
  }
 },
 "nbformat": 4,
 "nbformat_minor": 5
}

{
 "cells": [
  {
   "cell_type": "code",
   "execution_count": null,
   "id": "8dcbacb3",
   "metadata": {},
   "outputs": [],
   "source": [
    "99. Write a program to solve a classic ancient Chinese puzzle: \n",
    "We count 35 heads and 94 legs among the chickens and rabbits in a farm. How many rabbits and how many chickens do we have? \n",
    "Hint: Use for loop to iterate all possible solutions "
   ]
  },
  {
   "cell_type": "code",
   "execution_count": 2,
   "id": "55f82aed",
   "metadata": {},
   "outputs": [
    {
     "name": "stdout",
     "output_type": "stream",
     "text": [
      "(23, 12)\n"
     ]
    }
   ],
   "source": [
    "import itertools\n",
    "\n",
    "def solve(numheads,numlegs):\n",
    "    ns='No solutions!'\n",
    "    for i in range(numheads+1):\n",
    "        j=numheads-i\n",
    "        if 2*i+4*j==numlegs:\n",
    "            return i,j\n",
    "    return ns,ns\n",
    "\n",
    "numheads = 35\n",
    "numlegs = 94\n",
    "solutions=solve(numheads,numlegs)\n",
    "print (solutions)"
   ]
  },
  {
   "cell_type": "code",
   "execution_count": null,
   "id": "0832f217",
   "metadata": {},
   "outputs": [],
   "source": [
    "import itertools\n",
    "\n",
    "def animal_counter(lst):\n",
    "    chickens = 0\n",
    "    rabbits = 0\n",
    "    for i in lst:\n",
    "        if i == 2:\n",
    "            chickens += 1\n",
    "        elif i == 4:\n",
    "            rabbits += 1\n",
    "    print(f\"Number of chickens is {chickens}\\nNumber of rabbits is {rabbits}\")\n",
    "\n",
    "\n",
    "def animal_calculator(total_legs, total_heads, legs_of_each_species):\n",
    "    combinations = itertools.combinations_with_replacement(legs_of_each_species, total_heads)\n",
    "    correct_combos = []\n",
    "    for i in list(combinations):\n",
    "        if sum(i) == total_legs:\n",
    "            correct_combos.append(i)\n",
    "    print(correct_combos)\n",
    "    for i in correct_combos:\n",
    "        animal_counter(i)\n",
    "\n",
    "animal_calculator(94, 35, legs_of_each_species=[2,4])"
   ]
  }
 ],
 "metadata": {
  "kernelspec": {
   "display_name": "Python 3 (ipykernel)",
   "language": "python",
   "name": "python3"
  },
  "language_info": {
   "codemirror_mode": {
    "name": "ipython",
    "version": 3
   },
   "file_extension": ".py",
   "mimetype": "text/x-python",
   "name": "python",
   "nbconvert_exporter": "python",
   "pygments_lexer": "ipython3",
   "version": "3.9.7"
  }
 },
 "nbformat": 4,
 "nbformat_minor": 5
}
